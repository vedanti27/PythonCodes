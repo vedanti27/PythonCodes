{
 "cells": [
  {
   "cell_type": "markdown",
   "id": "40108576",
   "metadata": {},
   "source": [
    "# Exploratory data analysis of the Irish weather"
   ]
  },
  {
   "cell_type": "markdown",
   "id": "10d02923",
   "metadata": {},
   "source": [
    "### Reviewing the Data"
   ]
  },
  {
   "cell_type": "code",
   "execution_count": 36,
   "id": "271f5c6c",
   "metadata": {},
   "outputs": [],
   "source": [
    "#Loading the libraries required\n",
    "\n",
    "import numpy as np\n",
    "import pandas as pd\n",
    "from pandas import DataFrame, Series\n",
    "import matplotlib.pyplot as plt\n",
    "import seaborn as sns\n"
   ]
  },
  {
   "cell_type": "code",
   "execution_count": 37,
   "id": "8bdb3f0d",
   "metadata": {},
   "outputs": [
    {
     "data": {
      "text/html": [
       "<div>\n",
       "<style scoped>\n",
       "    .dataframe tbody tr th:only-of-type {\n",
       "        vertical-align: middle;\n",
       "    }\n",
       "\n",
       "    .dataframe tbody tr th {\n",
       "        vertical-align: top;\n",
       "    }\n",
       "\n",
       "    .dataframe thead th {\n",
       "        text-align: right;\n",
       "    }\n",
       "</style>\n",
       "<table border=\"1\" class=\"dataframe\">\n",
       "  <thead>\n",
       "    <tr style=\"text-align: right;\">\n",
       "      <th></th>\n",
       "      <th>day</th>\n",
       "      <th>month</th>\n",
       "      <th>year</th>\n",
       "      <th>station</th>\n",
       "      <th>maxtp</th>\n",
       "      <th>mintp</th>\n",
       "      <th>rain</th>\n",
       "      <th>wdsp</th>\n",
       "      <th>hg</th>\n",
       "      <th>sun</th>\n",
       "    </tr>\n",
       "  </thead>\n",
       "  <tbody>\n",
       "    <tr>\n",
       "      <th>0</th>\n",
       "      <td>1</td>\n",
       "      <td>jan</td>\n",
       "      <td>2021</td>\n",
       "      <td>Dublin Airport</td>\n",
       "      <td>5.0</td>\n",
       "      <td>-1.9</td>\n",
       "      <td>0.0</td>\n",
       "      <td>8.8</td>\n",
       "      <td>19.0</td>\n",
       "      <td>6.6</td>\n",
       "    </tr>\n",
       "    <tr>\n",
       "      <th>1</th>\n",
       "      <td>2</td>\n",
       "      <td>jan</td>\n",
       "      <td>2021</td>\n",
       "      <td>Dublin Airport</td>\n",
       "      <td>3.5</td>\n",
       "      <td>-2.4</td>\n",
       "      <td>0.1</td>\n",
       "      <td>10.1</td>\n",
       "      <td>19.0</td>\n",
       "      <td>2.4</td>\n",
       "    </tr>\n",
       "    <tr>\n",
       "      <th>2</th>\n",
       "      <td>3</td>\n",
       "      <td>jan</td>\n",
       "      <td>2021</td>\n",
       "      <td>Dublin Airport</td>\n",
       "      <td>3.9</td>\n",
       "      <td>-2.5</td>\n",
       "      <td>4.1</td>\n",
       "      <td>9.2</td>\n",
       "      <td>30.0</td>\n",
       "      <td>0.6</td>\n",
       "    </tr>\n",
       "    <tr>\n",
       "      <th>3</th>\n",
       "      <td>4</td>\n",
       "      <td>jan</td>\n",
       "      <td>2021</td>\n",
       "      <td>Dublin Airport</td>\n",
       "      <td>5.3</td>\n",
       "      <td>2.2</td>\n",
       "      <td>0.5</td>\n",
       "      <td>11.5</td>\n",
       "      <td>27.0</td>\n",
       "      <td>0.6</td>\n",
       "    </tr>\n",
       "    <tr>\n",
       "      <th>4</th>\n",
       "      <td>5</td>\n",
       "      <td>jan</td>\n",
       "      <td>2021</td>\n",
       "      <td>Dublin Airport</td>\n",
       "      <td>5.2</td>\n",
       "      <td>1.2</td>\n",
       "      <td>1.0</td>\n",
       "      <td>9.5</td>\n",
       "      <td>25.0</td>\n",
       "      <td>1.0</td>\n",
       "    </tr>\n",
       "  </tbody>\n",
       "</table>\n",
       "</div>"
      ],
      "text/plain": [
       "   day month  year         station  maxtp  mintp  rain  wdsp    hg  sun\n",
       "0    1   jan  2021  Dublin Airport    5.0   -1.9   0.0   8.8  19.0  6.6\n",
       "1    2   jan  2021  Dublin Airport    3.5   -2.4   0.1  10.1  19.0  2.4\n",
       "2    3   jan  2021  Dublin Airport    3.9   -2.5   4.1   9.2  30.0  0.6\n",
       "3    4   jan  2021  Dublin Airport    5.3    2.2   0.5  11.5  27.0  0.6\n",
       "4    5   jan  2021  Dublin Airport    5.2    1.2   1.0   9.5  25.0  1.0"
      ]
     },
     "execution_count": 37,
     "metadata": {},
     "output_type": "execute_result"
    }
   ],
   "source": [
    "#Loading the dataset\n",
    "\n",
    "weather = pd.read_csv('weather.csv',skiprows=11)   # read csv dataset file, skip intial rows \n",
    "weather.head()                                     # Print loaded dataset                                   "
   ]
  },
  {
   "cell_type": "markdown",
   "id": "e6a7a96a",
   "metadata": {},
   "source": [
    "##### Observations\n",
    "\n",
    "The dataset has temperature recordings taken at **three airports (Dublin, Shannon, Cork)in Ireland**.\n",
    "\n",
    "Records are collected everyday in **single year 2021**. \n",
    "\n",
    "Weather values included are days of year, location,\n",
    "maximum and minimum temperatures, rain and avg. wind speed, highest gust, sunshine duration.\n",
    "\n",
    "Temporal resolution is the spacing between datapoints/observations. Here we can see that **spacing between \n",
    "data is daily**.\n"
   ]
  },
  {
   "cell_type": "code",
   "execution_count": 38,
   "id": "c24a1b27",
   "metadata": {},
   "outputs": [
    {
     "name": "stdout",
     "output_type": "stream",
     "text": [
      "\n",
      "\n",
      " day          int64\n",
      "month       object\n",
      "year         int64\n",
      "station     object\n",
      "maxtp      float64\n",
      "mintp      float64\n",
      "rain       float64\n",
      "wdsp       float64\n",
      "hg         float64\n",
      "sun        float64\n",
      "dtype: object \n",
      "\n"
     ]
    },
    {
     "data": {
      "text/plain": [
       "array(['Dublin Airport', 'Shannon Airport', 'Cork Airport'], dtype=object)"
      ]
     },
     "execution_count": 38,
     "metadata": {},
     "output_type": "execute_result"
    }
   ],
   "source": [
    "# Type of data contained in columns of loaded dataset.\n",
    "print('\\n\\n',weather.dtypes,'\\n') \n",
    "\n",
    "#Finding unique stations of recording.\n",
    "weather.station.unique()                                     "
   ]
  },
  {
   "cell_type": "code",
   "execution_count": 39,
   "id": "15ce618a",
   "metadata": {},
   "outputs": [
    {
     "data": {
      "text/plain": [
       "array([2021])"
      ]
     },
     "execution_count": 39,
     "metadata": {},
     "output_type": "execute_result"
    }
   ],
   "source": [
    "# To check how many years are there in dataset\n",
    "weather.year.unique()"
   ]
  },
  {
   "cell_type": "code",
   "execution_count": 40,
   "id": "f6b31248",
   "metadata": {},
   "outputs": [
    {
     "data": {
      "text/plain": [
       "['day',\n",
       " 'month',\n",
       " 'year',\n",
       " 'station',\n",
       " 'maxtp',\n",
       " 'mintp',\n",
       " 'rain',\n",
       " 'wdsp',\n",
       " 'hg',\n",
       " 'sun']"
      ]
     },
     "execution_count": 40,
     "metadata": {},
     "output_type": "execute_result"
    }
   ],
   "source": [
    "# Which weather measurements reported?\n",
    "\n",
    "# panda function to review header names.\n",
    "list(weather) "
   ]
  },
  {
   "cell_type": "markdown",
   "id": "6e192f5e",
   "metadata": {},
   "source": [
    "### Data Cleaning"
   ]
  },
  {
   "cell_type": "code",
   "execution_count": 41,
   "id": "83cfe9d8",
   "metadata": {},
   "outputs": [
    {
     "data": {
      "text/plain": [
       "day        0\n",
       "month      0\n",
       "year       0\n",
       "station    0\n",
       "maxtp      2\n",
       "mintp      2\n",
       "rain       4\n",
       "wdsp       1\n",
       "hg         3\n",
       "sun        2\n",
       "dtype: int64"
      ]
     },
     "execution_count": 41,
     "metadata": {},
     "output_type": "execute_result"
    }
   ],
   "source": [
    "#Finding missing records\n",
    "weather.isna().sum()"
   ]
  },
  {
   "cell_type": "markdown",
   "id": "d7e7b99d",
   "metadata": {},
   "source": [
    "##### Observations\n",
    "\n",
    "There are two missing maximum and minimum temperature measurements, 4 missing rain measurements, 1 missing mean windspeed measurement, 3 missing highest gust measurements and 2 missing hours of sunlight measurements.\n",
    "\n",
    "\n",
    "A plausible reason for the missing measurements is that the equipment was not working correctly on the days where there is no measurement. For example, the thermometer may have been broken on the days there were no temperature measurements. \n",
    "\n",
    "Filling the missing values with the mean would not be a very good strategy, as the mean is the average value across the year (and locations). A better strategy would be to fill the missing values with the mean for that month at that weather station. We still lose information about weather on that specific date with this method. To include information about the weather on the specific date of the missing measurement, we could compare the measurements at other locations with their mean values to see how close/far away they are from the mean value and use this relationship to determine an appropriate measurement at the weather station with the missing value.\n",
    "\n",
    "In all cases, we are making inferences about the weather that may or not be true. Given that we do not have sufficient information about the true values, the best strategy is to leave them empty."
   ]
  },
  {
   "cell_type": "markdown",
   "id": "83cfeaac",
   "metadata": {},
   "source": [
    "### Data Analysis"
   ]
  },
  {
   "cell_type": "code",
   "execution_count": 42,
   "id": "6c167832",
   "metadata": {},
   "outputs": [
    {
     "name": "stdout",
     "output_type": "stream",
     "text": [
      "Total number of stations: 3\n",
      "Station names: \n",
      "['Dublin Airport' 'Shannon Airport' 'Cork Airport']\n"
     ]
    },
    {
     "data": {
      "text/plain": [
       "Dublin Airport     365\n",
       "Shannon Airport    365\n",
       "Cork Airport       365\n",
       "Name: station, dtype: int64"
      ]
     },
     "execution_count": 42,
     "metadata": {},
     "output_type": "execute_result"
    }
   ],
   "source": [
    "#nunique - gives the count of unique values, \n",
    "print ('Total number of stations: ' + str(weather.station.nunique())) \n",
    "\n",
    "#unique - prints unique column values\n",
    "print ('Station names: ' ) \n",
    "print (weather.station.unique())\n",
    "\n",
    "#Prints station names and records for each\n",
    "weather.station.value_counts()"
   ]
  },
  {
   "cell_type": "code",
   "execution_count": 43,
   "id": "067851c2",
   "metadata": {},
   "outputs": [
    {
     "data": {
      "text/html": [
       "<div>\n",
       "<style scoped>\n",
       "    .dataframe tbody tr th:only-of-type {\n",
       "        vertical-align: middle;\n",
       "    }\n",
       "\n",
       "    .dataframe tbody tr th {\n",
       "        vertical-align: top;\n",
       "    }\n",
       "\n",
       "    .dataframe thead th {\n",
       "        text-align: right;\n",
       "    }\n",
       "</style>\n",
       "<table border=\"1\" class=\"dataframe\">\n",
       "  <thead>\n",
       "    <tr style=\"text-align: right;\">\n",
       "      <th></th>\n",
       "      <th>day</th>\n",
       "      <th>month</th>\n",
       "      <th>year</th>\n",
       "      <th>station</th>\n",
       "      <th>mintp</th>\n",
       "    </tr>\n",
       "  </thead>\n",
       "  <tbody>\n",
       "    <tr>\n",
       "      <th>8</th>\n",
       "      <td>9</td>\n",
       "      <td>jan</td>\n",
       "      <td>2021</td>\n",
       "      <td>Dublin Airport</td>\n",
       "      <td>-5.9</td>\n",
       "    </tr>\n",
       "  </tbody>\n",
       "</table>\n",
       "</div>"
      ],
      "text/plain": [
       "   day month  year         station  mintp\n",
       "8    9   jan  2021  Dublin Airport   -5.9"
      ]
     },
     "execution_count": 43,
     "metadata": {},
     "output_type": "execute_result"
    }
   ],
   "source": [
    "#Finding Lowest Temparature\n",
    "#weather.iloc[weather.mintp.argmin()]\n",
    "\n",
    "#get location of min of lowest temperature and store it in variable\n",
    "lowestTemp = weather.loc[weather.mintp == weather.mintp.min()]                      \n",
    "\n",
    "#display the required columns for the min of lowest temperature \n",
    "weather.iloc[lowestTemp.index, [0,1,2,3,5]]"
   ]
  },
  {
   "cell_type": "code",
   "execution_count": 44,
   "id": "dd44b971",
   "metadata": {},
   "outputs": [
    {
     "data": {
      "text/html": [
       "<div>\n",
       "<style scoped>\n",
       "    .dataframe tbody tr th:only-of-type {\n",
       "        vertical-align: middle;\n",
       "    }\n",
       "\n",
       "    .dataframe tbody tr th {\n",
       "        vertical-align: top;\n",
       "    }\n",
       "\n",
       "    .dataframe thead th {\n",
       "        text-align: right;\n",
       "    }\n",
       "</style>\n",
       "<table border=\"1\" class=\"dataframe\">\n",
       "  <thead>\n",
       "    <tr style=\"text-align: right;\">\n",
       "      <th></th>\n",
       "      <th>day</th>\n",
       "      <th>month</th>\n",
       "      <th>year</th>\n",
       "      <th>station</th>\n",
       "      <th>rain</th>\n",
       "    </tr>\n",
       "  </thead>\n",
       "  <tbody>\n",
       "    <tr>\n",
       "      <th>1029</th>\n",
       "      <td>27</td>\n",
       "      <td>oct</td>\n",
       "      <td>2021</td>\n",
       "      <td>Cork Airport</td>\n",
       "      <td>50.1</td>\n",
       "    </tr>\n",
       "  </tbody>\n",
       "</table>\n",
       "</div>"
      ],
      "text/plain": [
       "      day month  year       station  rain\n",
       "1029   27   oct  2021  Cork Airport  50.1"
      ]
     },
     "execution_count": 44,
     "metadata": {},
     "output_type": "execute_result"
    }
   ],
   "source": [
    "#Finding Max rainfall Temparature\n",
    "\n",
    "MaxRain = weather.loc[weather.rain == weather.rain.max()]                      \n",
    "weather.iloc[MaxRain.index, [0,1,2,3,6]]"
   ]
  },
  {
   "cell_type": "markdown",
   "id": "1fe2dfec",
   "metadata": {},
   "source": [
    "##### Observations\n",
    "\n",
    "The lowest temperature was recorded at Dublin airport on January 9th 2021.\n",
    "\n",
    "The largest amount of rainfall was recorded at Cork Airport on October 27th 2021."
   ]
  },
  {
   "cell_type": "markdown",
   "id": "cd1d6261",
   "metadata": {},
   "source": [
    "### Statistical Analysis"
   ]
  },
  {
   "cell_type": "code",
   "execution_count": 45,
   "id": "20f7a524",
   "metadata": {
    "scrolled": true
   },
   "outputs": [
    {
     "data": {
      "text/html": [
       "<div>\n",
       "<style scoped>\n",
       "    .dataframe tbody tr th:only-of-type {\n",
       "        vertical-align: middle;\n",
       "    }\n",
       "\n",
       "    .dataframe tbody tr th {\n",
       "        vertical-align: top;\n",
       "    }\n",
       "\n",
       "    .dataframe thead th {\n",
       "        text-align: right;\n",
       "    }\n",
       "</style>\n",
       "<table border=\"1\" class=\"dataframe\">\n",
       "  <thead>\n",
       "    <tr style=\"text-align: right;\">\n",
       "      <th></th>\n",
       "      <th>day</th>\n",
       "      <th>year</th>\n",
       "      <th>maxtp</th>\n",
       "      <th>mintp</th>\n",
       "      <th>rain</th>\n",
       "      <th>wdsp</th>\n",
       "      <th>hg</th>\n",
       "      <th>sun</th>\n",
       "    </tr>\n",
       "  </thead>\n",
       "  <tbody>\n",
       "    <tr>\n",
       "      <th>count</th>\n",
       "      <td>1095.000000</td>\n",
       "      <td>1095.0</td>\n",
       "      <td>1093.000000</td>\n",
       "      <td>1093.000000</td>\n",
       "      <td>1091.000000</td>\n",
       "      <td>1094.000000</td>\n",
       "      <td>1092.000000</td>\n",
       "      <td>1093.000000</td>\n",
       "    </tr>\n",
       "    <tr>\n",
       "      <th>mean</th>\n",
       "      <td>15.720548</td>\n",
       "      <td>2021.0</td>\n",
       "      <td>13.732662</td>\n",
       "      <td>6.950046</td>\n",
       "      <td>2.596242</td>\n",
       "      <td>8.587020</td>\n",
       "      <td>22.863553</td>\n",
       "      <td>4.036780</td>\n",
       "    </tr>\n",
       "    <tr>\n",
       "      <th>std</th>\n",
       "      <td>8.800266</td>\n",
       "      <td>0.0</td>\n",
       "      <td>5.107554</td>\n",
       "      <td>4.687423</td>\n",
       "      <td>4.864790</td>\n",
       "      <td>3.705469</td>\n",
       "      <td>8.396710</td>\n",
       "      <td>3.958998</td>\n",
       "    </tr>\n",
       "    <tr>\n",
       "      <th>min</th>\n",
       "      <td>1.000000</td>\n",
       "      <td>2021.0</td>\n",
       "      <td>0.600000</td>\n",
       "      <td>-5.900000</td>\n",
       "      <td>0.000000</td>\n",
       "      <td>1.900000</td>\n",
       "      <td>7.000000</td>\n",
       "      <td>0.000000</td>\n",
       "    </tr>\n",
       "    <tr>\n",
       "      <th>25%</th>\n",
       "      <td>8.000000</td>\n",
       "      <td>2021.0</td>\n",
       "      <td>10.200000</td>\n",
       "      <td>3.400000</td>\n",
       "      <td>0.000000</td>\n",
       "      <td>6.000000</td>\n",
       "      <td>17.000000</td>\n",
       "      <td>0.300000</td>\n",
       "    </tr>\n",
       "    <tr>\n",
       "      <th>50%</th>\n",
       "      <td>16.000000</td>\n",
       "      <td>2021.0</td>\n",
       "      <td>13.400000</td>\n",
       "      <td>7.100000</td>\n",
       "      <td>0.300000</td>\n",
       "      <td>7.900000</td>\n",
       "      <td>21.000000</td>\n",
       "      <td>2.900000</td>\n",
       "    </tr>\n",
       "    <tr>\n",
       "      <th>75%</th>\n",
       "      <td>23.000000</td>\n",
       "      <td>2021.0</td>\n",
       "      <td>17.600000</td>\n",
       "      <td>10.700000</td>\n",
       "      <td>3.050000</td>\n",
       "      <td>10.600000</td>\n",
       "      <td>28.000000</td>\n",
       "      <td>6.600000</td>\n",
       "    </tr>\n",
       "    <tr>\n",
       "      <th>max</th>\n",
       "      <td>31.000000</td>\n",
       "      <td>2021.0</td>\n",
       "      <td>29.600000</td>\n",
       "      <td>18.700000</td>\n",
       "      <td>50.100000</td>\n",
       "      <td>26.300000</td>\n",
       "      <td>64.000000</td>\n",
       "      <td>15.200000</td>\n",
       "    </tr>\n",
       "  </tbody>\n",
       "</table>\n",
       "</div>"
      ],
      "text/plain": [
       "               day    year        maxtp        mintp         rain  \\\n",
       "count  1095.000000  1095.0  1093.000000  1093.000000  1091.000000   \n",
       "mean     15.720548  2021.0    13.732662     6.950046     2.596242   \n",
       "std       8.800266     0.0     5.107554     4.687423     4.864790   \n",
       "min       1.000000  2021.0     0.600000    -5.900000     0.000000   \n",
       "25%       8.000000  2021.0    10.200000     3.400000     0.000000   \n",
       "50%      16.000000  2021.0    13.400000     7.100000     0.300000   \n",
       "75%      23.000000  2021.0    17.600000    10.700000     3.050000   \n",
       "max      31.000000  2021.0    29.600000    18.700000    50.100000   \n",
       "\n",
       "              wdsp           hg          sun  \n",
       "count  1094.000000  1092.000000  1093.000000  \n",
       "mean      8.587020    22.863553     4.036780  \n",
       "std       3.705469     8.396710     3.958998  \n",
       "min       1.900000     7.000000     0.000000  \n",
       "25%       6.000000    17.000000     0.300000  \n",
       "50%       7.900000    21.000000     2.900000  \n",
       "75%      10.600000    28.000000     6.600000  \n",
       "max      26.300000    64.000000    15.200000  "
      ]
     },
     "execution_count": 45,
     "metadata": {},
     "output_type": "execute_result"
    }
   ],
   "source": [
    "#4. Create a numerical summary (mean, standard deviation, minimum, maximum, etc.) for each\n",
    "#   of the weather measurements. Discuss and interpret your results.\n",
    "\n",
    "# Explanation:\n",
    "#      Describe function displays the statistical data of paramater provided.\n",
    "#      Below we calculate statistical data of all weather points individually for the whole year.\n",
    "#      This provides the count of datapoints, Min and max records.\n",
    "#      Mean provides the average of all datapoints, whereas median (also 50% mentioned below) sorts \n",
    "#.     the datapoints and it is middle of the list.\n",
    "#      These two above variables decide how the data is distributed.\n",
    "#      (25,50,75%) are the quantiles of datapoints in which the maximum count of data is distributed.\n",
    "    \n",
    "#      1. Maxtp,Mintp - density of the datapoints are near to the avergae of max tp values as median and mean \n",
    "#        are close.\n",
    "        \n",
    "#      2. Rain - mean and median are far away hence this decribes there are more datapoints at the beginning \n",
    "#                 and some outliers which fetches the median far from mean.\n",
    "        \n",
    "#      3. Wind speed,highest gust,sun - This feature has normal curve but due to some outliers it stretches \n",
    "#                                     mean away from median.\n",
    "     \n",
    "\n",
    "\n",
    "#Code:\n",
    "weather.describe()"
   ]
  },
  {
   "cell_type": "markdown",
   "id": "8cbcd750",
   "metadata": {},
   "source": [
    "##### Observations\n",
    "Unsurprisingly, the maximum air temperature has a higher mean of 13.73 C and the maximum air temperature has a \n",
    "lower mean of 6.95 C. Both measurements have similiar standard deviations. \n",
    "The median is approximately equal to the mean for both temperature measurements, \n",
    "indicating that their disctributions are symmetric.\n",
    "\n",
    "The daily rain fall has a mean of 2.60 mm and standard deviation of 4.86 mm. \n",
    "The median (0.30 mm) is significantly lower than the mean, indicating that the distribution is right skewed.\n",
    "\n",
    "The average windspeed has a mean of 8.59 knots, while the highest gust has a much larger mean of 22.86. \n",
    "The standard deviation for the largest gust is also higher. This is to be expected.\n",
    "\n",
    "The mean hours of sunlight per day is 4.04, with a standard deviation 0f 3.96. \n",
    "The median is slighlty lower than the the mean, suggesting that the distribution may be right skewed \n",
    "(more days with less sunlight)."
   ]
  },
  {
   "cell_type": "markdown",
   "id": "ad56fa66",
   "metadata": {},
   "source": [
    "### Graphical Summary"
   ]
  },
  {
   "cell_type": "code",
   "execution_count": 46,
   "id": "c5ea6483",
   "metadata": {
    "scrolled": false
   },
   "outputs": [
    {
     "data": {
      "text/plain": [
       "Text(0, 0.5, 'Number of days')"
      ]
     },
     "execution_count": 46,
     "metadata": {},
     "output_type": "execute_result"
    },
    {
     "data": {
      "image/png": "[encoded data removed]",
      "text/plain": [
       "<Figure size 1440x864 with 6 Axes>"
      ]
     },
     "metadata": {
      "needs_background": "light"
     },
     "output_type": "display_data"
    }
   ],
   "source": [
    "fig = plt.figure(figsize=(20,12))\n",
    "plt.subplot(2,3,1)\n",
    "plt.hist(weather.maxtp, color='b', bins=15)\n",
    "plt.xlabel('Maximum air temperature',size=18)\n",
    "plt.ylabel('Number of days',size=18)\n",
    "\n",
    "plt.subplot(2,3,2)\n",
    "plt.hist(weather.mintp, color='r', bins=15)\n",
    "plt.xlabel('Minimum air temperature (C)',size=18)\n",
    "plt.ylabel('Number of days',size=18)\n",
    "\n",
    "plt.subplot(2,3,3)\n",
    "plt.hist(weather.rain, color='g', bins=15)\n",
    "plt.xlabel('Precipitation Amount (mm)',size=18)\n",
    "plt.ylabel('Number of days',size=18)\n",
    "\n",
    "plt.subplot(2,3,4)\n",
    "plt.hist(weather.wdsp, color='c', bins=15)\n",
    "plt.xlabel('Average windspeed (knots)',size=18)\n",
    "plt.ylabel('Number of days',size=18)\n",
    "\n",
    "plt.subplot(2,3,5)\n",
    "plt.hist(weather.hg, color='m', bins=15)\n",
    "plt.xlabel('Highest gust (knots)',size=18)\n",
    "plt.ylabel('Number of days',size=18)\n",
    "\n",
    "plt.subplot(2,3,6)\n",
    "plt.hist(weather.sun, color='y', bins=15)\n",
    "plt.xlabel('Hours of sunlight (hrs)',size=18)\n",
    "plt.ylabel('Number of days',size=18)"
   ]
  },
  {
   "cell_type": "markdown",
   "id": "f3621318",
   "metadata": {},
   "source": [
    "##### Observations\n",
    "\n",
    "The two temperature measurements are, as expected from the numerical summaries, more or less symmetric. \n",
    "The centre's of each of these three graphes matches the mean/median, and the range/spread matches the min and \n",
    "max values.\n",
    "\n",
    "The precipitation distribution is right skewed, which we predicted in the previous part. \n",
    "This makes sense, as there are many days that it rains just a little, but not many where it rains a lot. \n",
    "For the plot, we can see that there are over 800 days with little to no rain. \n",
    "Hence, we should not expect to have too many days with very heavy rainfall measurements.\n",
    "\n",
    "\n",
    "The two windspeed measurements have a slight right-skew, with less days of high windspeeds than low windspeeds.\n",
    "\n",
    "As expected, distribution of hours of sunlight is also right skewed. \n",
    "There are in fact a large number of days (~350) with little to no sunlight. \n",
    "These would correspond to overcast days, which we get quite often in Ireland."
   ]
  },
  {
   "cell_type": "code",
   "execution_count": 47,
   "id": "bfacdd44",
   "metadata": {
    "scrolled": true
   },
   "outputs": [
    {
     "data": {
      "image/png": "[encoded data removed]",
      "text/plain": [
       "<Figure size 417.625x360 with 1 Axes>"
      ]
     },
     "metadata": {
      "needs_background": "light"
     },
     "output_type": "display_data"
    }
   ],
   "source": [
    "import seaborn as sns\n",
    "sns.lmplot(x='maxtp', y='mintp', data=weather, hue='month',fit_reg=False).set(title=\n",
    "                                                ' Dublin Airpot Plot for temp monthwise')\n",
    "plt.show()"
   ]
  },
  {
   "cell_type": "markdown",
   "id": "3f2cbae0",
   "metadata": {},
   "source": [
    "##### Observations\n",
    "\n",
    "As one would expect, as the maximum and minimum daily temperatures are positively correlated. \n",
    "If the maximum temperature for the day is high, the minimum temperature will also be higher. \n",
    "Also unsurprisingly is the fact that the tempertures (both min and max) are higher during the summer months \n",
    "(July, Aug, Oct) and lowest in the winter months (Dec, Jan, Feb). \n",
    "\n",
    "A somewhat less obvious observation is that the minimum temperatures are higher in Autumn than in Spring \n",
    "(greenish points lower than the purpleish points)."
   ]
  },
  {
   "cell_type": "code",
   "execution_count": 48,
   "id": "a864dbb7",
   "metadata": {},
   "outputs": [
    {
     "data": {
      "text/html": [
       "<div>\n",
       "<style scoped>\n",
       "    .dataframe tbody tr th:only-of-type {\n",
       "        vertical-align: middle;\n",
       "    }\n",
       "\n",
       "    .dataframe tbody tr th {\n",
       "        vertical-align: top;\n",
       "    }\n",
       "\n",
       "    .dataframe thead th {\n",
       "        text-align: right;\n",
       "    }\n",
       "</style>\n",
       "<table border=\"1\" class=\"dataframe\">\n",
       "  <thead>\n",
       "    <tr style=\"text-align: right;\">\n",
       "      <th></th>\n",
       "      <th>day</th>\n",
       "      <th>month</th>\n",
       "      <th>year</th>\n",
       "      <th>station</th>\n",
       "      <th>maxtp</th>\n",
       "      <th>mintp</th>\n",
       "      <th>rain</th>\n",
       "      <th>wdsp</th>\n",
       "      <th>hg</th>\n",
       "      <th>sun</th>\n",
       "      <th>temp_range</th>\n",
       "    </tr>\n",
       "  </thead>\n",
       "  <tbody>\n",
       "    <tr>\n",
       "      <th>0</th>\n",
       "      <td>1</td>\n",
       "      <td>jan</td>\n",
       "      <td>2021</td>\n",
       "      <td>Dublin Airport</td>\n",
       "      <td>5.0</td>\n",
       "      <td>-1.9</td>\n",
       "      <td>0.0</td>\n",
       "      <td>8.8</td>\n",
       "      <td>19.0</td>\n",
       "      <td>6.6</td>\n",
       "      <td>6.9</td>\n",
       "    </tr>\n",
       "    <tr>\n",
       "      <th>1</th>\n",
       "      <td>2</td>\n",
       "      <td>jan</td>\n",
       "      <td>2021</td>\n",
       "      <td>Dublin Airport</td>\n",
       "      <td>3.5</td>\n",
       "      <td>-2.4</td>\n",
       "      <td>0.1</td>\n",
       "      <td>10.1</td>\n",
       "      <td>19.0</td>\n",
       "      <td>2.4</td>\n",
       "      <td>5.9</td>\n",
       "    </tr>\n",
       "    <tr>\n",
       "      <th>2</th>\n",
       "      <td>3</td>\n",
       "      <td>jan</td>\n",
       "      <td>2021</td>\n",
       "      <td>Dublin Airport</td>\n",
       "      <td>3.9</td>\n",
       "      <td>-2.5</td>\n",
       "      <td>4.1</td>\n",
       "      <td>9.2</td>\n",
       "      <td>30.0</td>\n",
       "      <td>0.6</td>\n",
       "      <td>6.4</td>\n",
       "    </tr>\n",
       "    <tr>\n",
       "      <th>3</th>\n",
       "      <td>4</td>\n",
       "      <td>jan</td>\n",
       "      <td>2021</td>\n",
       "      <td>Dublin Airport</td>\n",
       "      <td>5.3</td>\n",
       "      <td>2.2</td>\n",
       "      <td>0.5</td>\n",
       "      <td>11.5</td>\n",
       "      <td>27.0</td>\n",
       "      <td>0.6</td>\n",
       "      <td>3.1</td>\n",
       "    </tr>\n",
       "    <tr>\n",
       "      <th>4</th>\n",
       "      <td>5</td>\n",
       "      <td>jan</td>\n",
       "      <td>2021</td>\n",
       "      <td>Dublin Airport</td>\n",
       "      <td>5.2</td>\n",
       "      <td>1.2</td>\n",
       "      <td>1.0</td>\n",
       "      <td>9.5</td>\n",
       "      <td>25.0</td>\n",
       "      <td>1.0</td>\n",
       "      <td>4.0</td>\n",
       "    </tr>\n",
       "  </tbody>\n",
       "</table>\n",
       "</div>"
      ],
      "text/plain": [
       "   day month  year         station  maxtp  mintp  rain  wdsp    hg  sun  \\\n",
       "0    1   jan  2021  Dublin Airport    5.0   -1.9   0.0   8.8  19.0  6.6   \n",
       "1    2   jan  2021  Dublin Airport    3.5   -2.4   0.1  10.1  19.0  2.4   \n",
       "2    3   jan  2021  Dublin Airport    3.9   -2.5   4.1   9.2  30.0  0.6   \n",
       "3    4   jan  2021  Dublin Airport    5.3    2.2   0.5  11.5  27.0  0.6   \n",
       "4    5   jan  2021  Dublin Airport    5.2    1.2   1.0   9.5  25.0  1.0   \n",
       "\n",
       "   temp_range  \n",
       "0         6.9  \n",
       "1         5.9  \n",
       "2         6.4  \n",
       "3         3.1  \n",
       "4         4.0  "
      ]
     },
     "execution_count": 48,
     "metadata": {},
     "output_type": "execute_result"
    }
   ],
   "source": [
    "#Adding new variable representing temperature range\n",
    "weather['temp_range'] = weather.maxtp - weather.mintp\n",
    "weather.head()"
   ]
  },
  {
   "cell_type": "code",
   "execution_count": 49,
   "id": "01357b43",
   "metadata": {
    "scrolled": true
   },
   "outputs": [
    {
     "data": {
      "image/png": "[encoded data removed]",
      "text/plain": [
       "<Figure size 477.125x360 with 1 Axes>"
      ]
     },
     "metadata": {
      "needs_background": "light"
     },
     "output_type": "display_data"
    }
   ],
   "source": [
    "#Plotting newly created data \n",
    "sns.lmplot(x = 'temp_range', y = 'sun', data=weather, hue='station',fit_reg=False)\n",
    "plt.show()"
   ]
  },
  {
   "cell_type": "markdown",
   "id": "f9319c54",
   "metadata": {},
   "source": [
    "##### Observations\n",
    "\n",
    "There seems to be a weak positive correlation between daily temperature range and hours of sunlight. \n",
    "On days when there is a lot of sunlight (clear skys) the temperature range tends to be great.\n",
    "We also see that the temperature range tends to be higher in Dublin compared to Cork, \n",
    "particularly on days with lots of sunlight (blue dots more to the right than green points). \n",
    "The measurements for Shannon span across those for Dublin and Cork."
   ]
  },
  {
   "cell_type": "markdown",
   "id": "46fa7915",
   "metadata": {},
   "source": [
    "### Comparitive Analysis"
   ]
  },
  {
   "cell_type": "code",
   "execution_count": 50,
   "id": "0d845f22",
   "metadata": {},
   "outputs": [
    {
     "name": "stdout",
     "output_type": "stream",
     "text": [
      "Dublin Airport\n"
     ]
    },
    {
     "data": {
      "text/html": [
       "<div>\n",
       "<style scoped>\n",
       "    .dataframe tbody tr th:only-of-type {\n",
       "        vertical-align: middle;\n",
       "    }\n",
       "\n",
       "    .dataframe tbody tr th {\n",
       "        vertical-align: top;\n",
       "    }\n",
       "\n",
       "    .dataframe thead th {\n",
       "        text-align: right;\n",
       "    }\n",
       "</style>\n",
       "<table border=\"1\" class=\"dataframe\">\n",
       "  <thead>\n",
       "    <tr style=\"text-align: right;\">\n",
       "      <th></th>\n",
       "      <th>maxtp</th>\n",
       "      <th>mintp</th>\n",
       "      <th>rain</th>\n",
       "      <th>wdsp</th>\n",
       "      <th>hg</th>\n",
       "      <th>sun</th>\n",
       "      <th>temp_range</th>\n",
       "    </tr>\n",
       "  </thead>\n",
       "  <tbody>\n",
       "    <tr>\n",
       "      <th>count</th>\n",
       "      <td>364.000000</td>\n",
       "      <td>364.000000</td>\n",
       "      <td>364.000000</td>\n",
       "      <td>365.000000</td>\n",
       "      <td>364.000000</td>\n",
       "      <td>364.000000</td>\n",
       "      <td>364.000000</td>\n",
       "    </tr>\n",
       "    <tr>\n",
       "      <th>mean</th>\n",
       "      <td>13.590934</td>\n",
       "      <td>6.001099</td>\n",
       "      <td>1.828846</td>\n",
       "      <td>8.625753</td>\n",
       "      <td>22.623626</td>\n",
       "      <td>4.089835</td>\n",
       "      <td>7.589835</td>\n",
       "    </tr>\n",
       "    <tr>\n",
       "      <th>std</th>\n",
       "      <td>5.258806</td>\n",
       "      <td>4.748774</td>\n",
       "      <td>3.878082</td>\n",
       "      <td>3.456376</td>\n",
       "      <td>7.790196</td>\n",
       "      <td>3.981802</td>\n",
       "      <td>3.199411</td>\n",
       "    </tr>\n",
       "    <tr>\n",
       "      <th>min</th>\n",
       "      <td>1.500000</td>\n",
       "      <td>-5.900000</td>\n",
       "      <td>0.000000</td>\n",
       "      <td>2.600000</td>\n",
       "      <td>10.000000</td>\n",
       "      <td>0.000000</td>\n",
       "      <td>1.400000</td>\n",
       "    </tr>\n",
       "    <tr>\n",
       "      <th>25%</th>\n",
       "      <td>10.000000</td>\n",
       "      <td>2.000000</td>\n",
       "      <td>0.000000</td>\n",
       "      <td>6.100000</td>\n",
       "      <td>17.000000</td>\n",
       "      <td>0.500000</td>\n",
       "      <td>5.200000</td>\n",
       "    </tr>\n",
       "    <tr>\n",
       "      <th>50%</th>\n",
       "      <td>13.300000</td>\n",
       "      <td>6.200000</td>\n",
       "      <td>0.100000</td>\n",
       "      <td>7.900000</td>\n",
       "      <td>21.000000</td>\n",
       "      <td>2.900000</td>\n",
       "      <td>7.350000</td>\n",
       "    </tr>\n",
       "    <tr>\n",
       "      <th>75%</th>\n",
       "      <td>18.100000</td>\n",
       "      <td>9.900000</td>\n",
       "      <td>1.325000</td>\n",
       "      <td>10.500000</td>\n",
       "      <td>27.250000</td>\n",
       "      <td>6.800000</td>\n",
       "      <td>9.800000</td>\n",
       "    </tr>\n",
       "    <tr>\n",
       "      <th>max</th>\n",
       "      <td>26.800000</td>\n",
       "      <td>15.800000</td>\n",
       "      <td>26.900000</td>\n",
       "      <td>24.400000</td>\n",
       "      <td>50.000000</td>\n",
       "      <td>15.200000</td>\n",
       "      <td>17.100000</td>\n",
       "    </tr>\n",
       "  </tbody>\n",
       "</table>\n",
       "</div>"
      ],
      "text/plain": [
       "            maxtp       mintp        rain        wdsp          hg         sun  \\\n",
       "count  364.000000  364.000000  364.000000  365.000000  364.000000  364.000000   \n",
       "mean    13.590934    6.001099    1.828846    8.625753   22.623626    4.089835   \n",
       "std      5.258806    4.748774    3.878082    3.456376    7.790196    3.981802   \n",
       "min      1.500000   -5.900000    0.000000    2.600000   10.000000    0.000000   \n",
       "25%     10.000000    2.000000    0.000000    6.100000   17.000000    0.500000   \n",
       "50%     13.300000    6.200000    0.100000    7.900000   21.000000    2.900000   \n",
       "75%     18.100000    9.900000    1.325000   10.500000   27.250000    6.800000   \n",
       "max     26.800000   15.800000   26.900000   24.400000   50.000000   15.200000   \n",
       "\n",
       "       temp_range  \n",
       "count  364.000000  \n",
       "mean     7.589835  \n",
       "std      3.199411  \n",
       "min      1.400000  \n",
       "25%      5.200000  \n",
       "50%      7.350000  \n",
       "75%      9.800000  \n",
       "max     17.100000  "
      ]
     },
     "execution_count": 50,
     "metadata": {},
     "output_type": "execute_result"
    }
   ],
   "source": [
    "print('Dublin Airport')\n",
    "weather.loc[weather.station=='Dublin Airport'].drop(['day','year'],axis=1).describe()"
   ]
  },
  {
   "cell_type": "code",
   "execution_count": 51,
   "id": "65f8fae9",
   "metadata": {
    "scrolled": true
   },
   "outputs": [
    {
     "name": "stdout",
     "output_type": "stream",
     "text": [
      "Shannon Airport\n"
     ]
    },
    {
     "data": {
      "text/html": [
       "<div>\n",
       "<style scoped>\n",
       "    .dataframe tbody tr th:only-of-type {\n",
       "        vertical-align: middle;\n",
       "    }\n",
       "\n",
       "    .dataframe tbody tr th {\n",
       "        vertical-align: top;\n",
       "    }\n",
       "\n",
       "    .dataframe thead th {\n",
       "        text-align: right;\n",
       "    }\n",
       "</style>\n",
       "<table border=\"1\" class=\"dataframe\">\n",
       "  <thead>\n",
       "    <tr style=\"text-align: right;\">\n",
       "      <th></th>\n",
       "      <th>maxtp</th>\n",
       "      <th>mintp</th>\n",
       "      <th>rain</th>\n",
       "      <th>wdsp</th>\n",
       "      <th>hg</th>\n",
       "      <th>sun</th>\n",
       "      <th>temp_range</th>\n",
       "    </tr>\n",
       "  </thead>\n",
       "  <tbody>\n",
       "    <tr>\n",
       "      <th>count</th>\n",
       "      <td>364.000000</td>\n",
       "      <td>364.000000</td>\n",
       "      <td>365.000000</td>\n",
       "      <td>365.000000</td>\n",
       "      <td>363.000000</td>\n",
       "      <td>364.000000</td>\n",
       "      <td>364.000000</td>\n",
       "    </tr>\n",
       "    <tr>\n",
       "      <th>mean</th>\n",
       "      <td>14.368681</td>\n",
       "      <td>7.611813</td>\n",
       "      <td>2.549041</td>\n",
       "      <td>7.815342</td>\n",
       "      <td>21.796143</td>\n",
       "      <td>3.856044</td>\n",
       "      <td>6.756868</td>\n",
       "    </tr>\n",
       "    <tr>\n",
       "      <th>std</th>\n",
       "      <td>5.175728</td>\n",
       "      <td>4.820239</td>\n",
       "      <td>4.007511</td>\n",
       "      <td>3.575878</td>\n",
       "      <td>8.372032</td>\n",
       "      <td>3.817264</td>\n",
       "      <td>2.834320</td>\n",
       "    </tr>\n",
       "    <tr>\n",
       "      <th>min</th>\n",
       "      <td>0.600000</td>\n",
       "      <td>-4.600000</td>\n",
       "      <td>0.000000</td>\n",
       "      <td>1.900000</td>\n",
       "      <td>8.000000</td>\n",
       "      <td>0.000000</td>\n",
       "      <td>1.700000</td>\n",
       "    </tr>\n",
       "    <tr>\n",
       "      <th>25%</th>\n",
       "      <td>11.100000</td>\n",
       "      <td>4.275000</td>\n",
       "      <td>0.000000</td>\n",
       "      <td>5.400000</td>\n",
       "      <td>16.000000</td>\n",
       "      <td>0.400000</td>\n",
       "      <td>4.800000</td>\n",
       "    </tr>\n",
       "    <tr>\n",
       "      <th>50%</th>\n",
       "      <td>14.100000</td>\n",
       "      <td>7.650000</td>\n",
       "      <td>0.500000</td>\n",
       "      <td>6.900000</td>\n",
       "      <td>20.000000</td>\n",
       "      <td>2.700000</td>\n",
       "      <td>6.300000</td>\n",
       "    </tr>\n",
       "    <tr>\n",
       "      <th>75%</th>\n",
       "      <td>18.000000</td>\n",
       "      <td>11.525000</td>\n",
       "      <td>3.400000</td>\n",
       "      <td>9.700000</td>\n",
       "      <td>26.000000</td>\n",
       "      <td>6.200000</td>\n",
       "      <td>8.425000</td>\n",
       "    </tr>\n",
       "    <tr>\n",
       "      <th>max</th>\n",
       "      <td>29.600000</td>\n",
       "      <td>18.700000</td>\n",
       "      <td>20.700000</td>\n",
       "      <td>25.800000</td>\n",
       "      <td>61.000000</td>\n",
       "      <td>15.000000</td>\n",
       "      <td>15.000000</td>\n",
       "    </tr>\n",
       "  </tbody>\n",
       "</table>\n",
       "</div>"
      ],
      "text/plain": [
       "            maxtp       mintp        rain        wdsp          hg         sun  \\\n",
       "count  364.000000  364.000000  365.000000  365.000000  363.000000  364.000000   \n",
       "mean    14.368681    7.611813    2.549041    7.815342   21.796143    3.856044   \n",
       "std      5.175728    4.820239    4.007511    3.575878    8.372032    3.817264   \n",
       "min      0.600000   -4.600000    0.000000    1.900000    8.000000    0.000000   \n",
       "25%     11.100000    4.275000    0.000000    5.400000   16.000000    0.400000   \n",
       "50%     14.100000    7.650000    0.500000    6.900000   20.000000    2.700000   \n",
       "75%     18.000000   11.525000    3.400000    9.700000   26.000000    6.200000   \n",
       "max     29.600000   18.700000   20.700000   25.800000   61.000000   15.000000   \n",
       "\n",
       "       temp_range  \n",
       "count  364.000000  \n",
       "mean     6.756868  \n",
       "std      2.834320  \n",
       "min      1.700000  \n",
       "25%      4.800000  \n",
       "50%      6.300000  \n",
       "75%      8.425000  \n",
       "max     15.000000  "
      ]
     },
     "execution_count": 51,
     "metadata": {},
     "output_type": "execute_result"
    }
   ],
   "source": [
    "print('Shannon Airport')\n",
    "weather.loc[weather.station=='Shannon Airport'].drop(['day','year'],axis=1).describe()"
   ]
  },
  {
   "cell_type": "code",
   "execution_count": 52,
   "id": "e685b210",
   "metadata": {
    "scrolled": true
   },
   "outputs": [
    {
     "name": "stdout",
     "output_type": "stream",
     "text": [
      "Cork Airport\n"
     ]
    },
    {
     "data": {
      "text/html": [
       "<div>\n",
       "<style scoped>\n",
       "    .dataframe tbody tr th:only-of-type {\n",
       "        vertical-align: middle;\n",
       "    }\n",
       "\n",
       "    .dataframe tbody tr th {\n",
       "        vertical-align: top;\n",
       "    }\n",
       "\n",
       "    .dataframe thead th {\n",
       "        text-align: right;\n",
       "    }\n",
       "</style>\n",
       "<table border=\"1\" class=\"dataframe\">\n",
       "  <thead>\n",
       "    <tr style=\"text-align: right;\">\n",
       "      <th></th>\n",
       "      <th>maxtp</th>\n",
       "      <th>mintp</th>\n",
       "      <th>rain</th>\n",
       "      <th>wdsp</th>\n",
       "      <th>hg</th>\n",
       "      <th>sun</th>\n",
       "      <th>temp_range</th>\n",
       "    </tr>\n",
       "  </thead>\n",
       "  <tbody>\n",
       "    <tr>\n",
       "      <th>count</th>\n",
       "      <td>365.000000</td>\n",
       "      <td>365.000000</td>\n",
       "      <td>362.000000</td>\n",
       "      <td>364.000000</td>\n",
       "      <td>365.000000</td>\n",
       "      <td>365.000000</td>\n",
       "      <td>365.000000</td>\n",
       "    </tr>\n",
       "    <tr>\n",
       "      <th>mean</th>\n",
       "      <td>13.239726</td>\n",
       "      <td>7.236438</td>\n",
       "      <td>3.415470</td>\n",
       "      <td>9.321978</td>\n",
       "      <td>24.164384</td>\n",
       "      <td>4.164110</td>\n",
       "      <td>6.003288</td>\n",
       "    </tr>\n",
       "    <tr>\n",
       "      <th>std</th>\n",
       "      <td>4.826949</td>\n",
       "      <td>4.339971</td>\n",
       "      <td>6.234737</td>\n",
       "      <td>3.924194</td>\n",
       "      <td>8.843284</td>\n",
       "      <td>4.077572</td>\n",
       "      <td>2.342826</td>\n",
       "    </tr>\n",
       "    <tr>\n",
       "      <th>min</th>\n",
       "      <td>1.900000</td>\n",
       "      <td>-2.700000</td>\n",
       "      <td>0.000000</td>\n",
       "      <td>2.400000</td>\n",
       "      <td>7.000000</td>\n",
       "      <td>0.000000</td>\n",
       "      <td>1.000000</td>\n",
       "    </tr>\n",
       "    <tr>\n",
       "      <th>25%</th>\n",
       "      <td>9.900000</td>\n",
       "      <td>3.800000</td>\n",
       "      <td>0.000000</td>\n",
       "      <td>6.600000</td>\n",
       "      <td>18.000000</td>\n",
       "      <td>0.200000</td>\n",
       "      <td>4.300000</td>\n",
       "    </tr>\n",
       "    <tr>\n",
       "      <th>50%</th>\n",
       "      <td>12.800000</td>\n",
       "      <td>6.900000</td>\n",
       "      <td>0.600000</td>\n",
       "      <td>8.500000</td>\n",
       "      <td>23.000000</td>\n",
       "      <td>3.100000</td>\n",
       "      <td>6.200000</td>\n",
       "    </tr>\n",
       "    <tr>\n",
       "      <th>75%</th>\n",
       "      <td>16.800000</td>\n",
       "      <td>11.100000</td>\n",
       "      <td>4.300000</td>\n",
       "      <td>11.200000</td>\n",
       "      <td>29.000000</td>\n",
       "      <td>7.000000</td>\n",
       "      <td>7.800000</td>\n",
       "    </tr>\n",
       "    <tr>\n",
       "      <th>max</th>\n",
       "      <td>25.700000</td>\n",
       "      <td>17.400000</td>\n",
       "      <td>50.100000</td>\n",
       "      <td>26.300000</td>\n",
       "      <td>64.000000</td>\n",
       "      <td>15.200000</td>\n",
       "      <td>11.300000</td>\n",
       "    </tr>\n",
       "  </tbody>\n",
       "</table>\n",
       "</div>"
      ],
      "text/plain": [
       "            maxtp       mintp        rain        wdsp          hg         sun  \\\n",
       "count  365.000000  365.000000  362.000000  364.000000  365.000000  365.000000   \n",
       "mean    13.239726    7.236438    3.415470    9.321978   24.164384    4.164110   \n",
       "std      4.826949    4.339971    6.234737    3.924194    8.843284    4.077572   \n",
       "min      1.900000   -2.700000    0.000000    2.400000    7.000000    0.000000   \n",
       "25%      9.900000    3.800000    0.000000    6.600000   18.000000    0.200000   \n",
       "50%     12.800000    6.900000    0.600000    8.500000   23.000000    3.100000   \n",
       "75%     16.800000   11.100000    4.300000   11.200000   29.000000    7.000000   \n",
       "max     25.700000   17.400000   50.100000   26.300000   64.000000   15.200000   \n",
       "\n",
       "       temp_range  \n",
       "count  365.000000  \n",
       "mean     6.003288  \n",
       "std      2.342826  \n",
       "min      1.000000  \n",
       "25%      4.300000  \n",
       "50%      6.200000  \n",
       "75%      7.800000  \n",
       "max     11.300000  "
      ]
     },
     "execution_count": 52,
     "metadata": {},
     "output_type": "execute_result"
    }
   ],
   "source": [
    "print('Cork Airport')\n",
    "weather.loc[weather.station=='Cork Airport'].drop(['day','year'],axis=1).describe()"
   ]
  },
  {
   "cell_type": "code",
   "execution_count": 53,
   "id": "20fe5609",
   "metadata": {},
   "outputs": [
    {
     "data": {
      "text/plain": [
       "Text(0, 0.5, 'Sunlight (hours)')"
      ]
     },
     "execution_count": 53,
     "metadata": {},
     "output_type": "execute_result"
    },
    {
     "data": {
      "image/png": "[encoded data removed]",
      "text/plain": [
       "<Figure size 1440x864 with 6 Axes>"
      ]
     },
     "metadata": {
      "needs_background": "light"
     },
     "output_type": "display_data"
    }
   ],
   "source": [
    "fig = plt.figure(figsize=(20,12))\n",
    "\n",
    "plt.subplot(2,3,1)\n",
    "sns.boxplot(data=weather, x=\"station\", y=\"maxtp\", orient=\"v\")\n",
    "plt.ylabel('Maximum air temperature',size=18)\n",
    "\n",
    "plt.subplot(2,3,2)\n",
    "sns.boxplot(data=weather, x=\"station\", y=\"mintp\", orient=\"v\")\n",
    "plt.ylabel('Minimum air temperature',size=18)\n",
    "\n",
    "plt.subplot(2,3,3)\n",
    "sns.boxplot(data=weather, x=\"station\", y=\"rain\", orient=\"v\")\n",
    "plt.ylabel('Precipitation Amount (mm)',size=18)\n",
    "\n",
    "plt.subplot(2,3,4)\n",
    "sns.boxplot(data=weather, x=\"station\", y=\"wdsp\", orient=\"v\")\n",
    "plt.ylabel('Average windsped (knots)',size=18)\n",
    "\n",
    "plt.subplot(2,3,5)\n",
    "sns.boxplot(data=weather, x=\"station\", y=\"hg\", orient=\"v\")\n",
    "plt.ylabel('Highest gust (knots)',size=18)\n",
    "\n",
    "plt.subplot(2,3,6)\n",
    "sns.boxplot(data=weather, x=\"station\", y=\"sun\", orient=\"v\")\n",
    "plt.ylabel('Sunlight (hours)',size=18)\n"
   ]
  },
  {
   "cell_type": "markdown",
   "id": "92a5bcbd",
   "metadata": {},
   "source": [
    "##### Observations\n",
    "\n",
    "On average, the maximum daily temperature is slightly higher in Shannon, with a mean of 14.4 C (median 14.1 C) \n",
    "compared to 13.6 C (median 13.3 C) in Dublin and 13.2 C (median 12.8 C) in Cork. \n",
    "The highest daily temperature was also in Shannon, at 29.6 C. This agrees with the boxplots which show a higher \n",
    "median in Shannon, as well as a number of high temperature outliers for Shannon. \n",
    "In terms of minimum daily temperature, Cork and Shannon are similar, with Dublin having a mean minimum daily \n",
    "temperature of 1-1.5 C lower. Looking at the boxplots Cork and Shannon have similar IQRs, but the range of \n",
    "minimum daily temperature is larger in Shannon. The boxplot for Dublin is shifted down, indicating a lower \n",
    "minimum daily temperature, as expected.\n",
    "\n",
    "The west of Ireland is know for getting more rain than the east. \n",
    "Hence, it is not surprising that the lowest average rainfall is in Dublin. \n",
    "The rainest day by far was recorded in Cork (50.1 mm compared to 26.9 mm in Dublin). \n",
    "From the boxplots, the range and IQR are significantly smalled for Dublin. \n",
    "However, Dublin appears to have more heavy rainfall outliers than Shannon, but less than Cork. \n",
    "\n",
    "Cork was the wettest location in 2021.\n",
    "The average windspeeds are comparable, with Cork having slightly stronger average windspeeds, 9.32 knots compared \n",
    "to 8.63 knots (Dublin) and 7.82 knots (Shannon). The boxplots show that Shannon has a slightly lower range and IQR,\n",
    "but a similarly large high windspeed outlyier as Cork. Cork also had stronger gusts, with a mean of 24.2 knots \n",
    "(median 23 knots) compared to 22.6 knots (median 21.0 knots) in Dublin and 21.8 knots (median 20.0) in Shannon. \n",
    "The boxplots support these findings, with Cork having the largest range and IQR, and the highest median highest \n",
    "gust.\n",
    "\n",
    "Finally, the average hours of sunlight per day is comparable across locations; Dublin 4.1 hrs (median 2.9 hrs), \n",
    "Shannon 3.9 hrs (median 2.7 hrs), Cork 4.2 hrs (median 3.1 hrs). \n",
    "The standard deviation, interquartile range and range are all very similar, which can also been seen on the \n",
    "boxplots."
   ]
  }
 ],
 "metadata": {
  "kernelspec": {
   "display_name": "Python 3 (ipykernel)",
   "language": "python",
   "name": "python3"
  },
  "language_info": {
   "codemirror_mode": {
    "name": "ipython",
    "version": 3
   },
   "file_extension": ".py",
   "mimetype": "text/x-python",
   "name": "python",
   "nbconvert_exporter": "python",
   "pygments_lexer": "ipython3",
   "version": "3.9.12"
  }
 },
 "nbformat": 4,
 "nbformat_minor": 5
}
